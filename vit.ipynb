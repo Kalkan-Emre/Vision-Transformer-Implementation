{
  "cells": [
    {
      "attachments": {},
      "cell_type": "markdown",
      "metadata": {
        "id": "SJC9aguL8TGS"
      },
      "source": [
        "## Description\n",
        "\n",
        "In this project , I implemented a vision transformer (ViT) in PyTorch. \n",
        "\n",
        "Reference:\n",
        "\n",
        "[1] Dosovitskiy, A., Beyer, L., Kolesnikov, A., Weissenborn, D., Zhai, X., Unterthiner, T., Dehghani, M., Minderer, M., Heigold, G., Gelly, S. and Uszkoreit, J., 2020. An image is worth 16x16 words: Transformers for image recognition at scale. ICLR 2021. https://arxiv.org/abs/2010.11929\n",
        "\n",
        "\n",
        "<img src=\"https://drive.google.com/uc?export=view&id=1TLwPc2Bo1HIowpQNqeVGTUZwtc3LPPiE\" width=\"600em\"/>\n",
        "\n",
        "My implementation has a \"patchify\" function to divide the input image into patches.  It patchifies a 28x28 MNIST image into 7 pixel by 7 pixel patches. So, in the end, an image yields 16 patches, because there will be 4 patch rows and 4 patch columns. Each patch is flattened to a 49-dimensional vector (49 because each patch is 7x7 pixels)."
      ]
    },
    {
      "cell_type": "code",
      "execution_count": 1,
      "metadata": {
        "id": "anOIuhHSBu-o"
      },
      "outputs": [],
      "source": [
        "import math\n",
        "import torch\n",
        "import torch.nn as nn\n",
        "import torch.nn.functional as F\n",
        "from torch.nn import CrossEntropyLoss\n",
        "from torch.optim import Adam\n",
        "from torch.utils.data import DataLoader\n",
        "from torchvision import datasets, transforms\n",
        "\n",
        "D = 64\n",
        "HEAD_NUM = 6\n",
        "BIAS = False\n"
      ]
    },
    {
      "cell_type": "code",
      "execution_count": 2,
      "metadata": {
        "id": "PoSREBquDh7Q"
      },
      "outputs": [],
      "source": [
        "class MultiHeadSelfAttention(nn.Module):\n",
        "  def __init__(self):\n",
        "    super().__init__()\n",
        "    self.head_num = HEAD_NUM\n",
        "    self.embedding_dim = 8+D\n",
        "    self.head_len = self.embedding_dim // self.head_num   #72 / 6 = 12\n",
        "\n",
        "    self.Wq = nn.Linear(self.embedding_dim,self.embedding_dim, bias=BIAS)\n",
        "    self.Wk = nn.Linear(self.embedding_dim,self.embedding_dim, bias=BIAS)\n",
        "    self.Wv = nn.Linear(self.embedding_dim,self.embedding_dim, bias=BIAS)\n",
        "\n",
        "  def _scaled_dot_product(self,Q,K):\n",
        "    # (batch_size x head number x patch number x head length)\n",
        "    Q = Q.permute(0,2,1,3)\n",
        "    #print(\"Q shape after permute:\", Q.shape)\n",
        "    # (batch_size x head number x head length x patch number)\n",
        "    K = K.permute(0,2,3,1)\n",
        "    #print(\"K shape after permute:\", K.shape)\n",
        "    # (batch_size x head number x patch number x patch number)\n",
        "    dot_product = torch.matmul(Q,K)\n",
        "\n",
        "    scale_factor = math.sqrt(self.head_len)\n",
        "\n",
        "    return dot_product/scale_factor\n",
        "\n",
        "\n",
        "  def forward(self, x):\n",
        "\n",
        "    batch_size,patch_num,_ = x.shape\n",
        "\n",
        "    # (batch_size x patch number x head number x head length)\n",
        "    Q = (self.Wq(x)).view(batch_size,patch_num,self.head_num,self.head_len)\n",
        "    K = (self.Wk(x)).view(batch_size,patch_num,self.head_num,self.head_len)\n",
        "    V = (self.Wv(x)).view(batch_size,patch_num,self.head_num,self.head_len)\n",
        "    #print(\"Q,K,V shapes:\", Q.shape)\n",
        "\n",
        "    # (batch_size x head number x patch number x head length)\n",
        "    V = V.permute(0,2,1,3)\n",
        "    #print(\"V shape:\", V.shape)\n",
        "\n",
        "    # (QK^{T})/ sqrt(dk)\n",
        "    # (batch_size x head number x patch number x patch number)\n",
        "    scaled_dot_product = self._scaled_dot_product(Q,K)\n",
        "\n",
        "    # softmax((QK^{T})/ sqrt(dk))\n",
        "    attention_weights = torch.softmax(scaled_dot_product, dim=-1)\n",
        "    #print(\"attention_weights shape:\", attention_weights.shape)\n",
        "\n",
        "    out = torch.matmul(attention_weights,V)\n",
        "\n",
        "    # (batch_size x patch number x head number x head length)\n",
        "    out = out.permute(0,2,1,3)\n",
        "    out = out.contiguous()\n",
        "\n",
        "    # (batch_size x patch number x (8+D))\n",
        "    out = out.view(-1,patch_num,self.embedding_dim)\n",
        "\n",
        "    return out\n"
      ]
    },
    {
      "cell_type": "code",
      "execution_count": 3,
      "metadata": {
        "id": "3m0IIofHvC_k"
      },
      "outputs": [],
      "source": [
        "class TransformerEncoder(nn.Module):\n",
        "  def __init__(self):\n",
        "    super().__init__()\n",
        "\n",
        "    self.embedding_size = 8+D\n",
        "\n",
        "    self.attention = MultiHeadSelfAttention()\n",
        "\n",
        "    self.mlp = nn.Sequential(\n",
        "        nn.LayerNorm(self.embedding_size),\n",
        "        nn.Linear(self.embedding_size, 2 * self.embedding_size),\n",
        "        nn.ReLU(),\n",
        "        nn.Linear(2 * self.embedding_size, self.embedding_size)\n",
        "    )\n",
        "\n",
        "    self.norm = nn.LayerNorm(self.embedding_size)\n",
        "\n",
        "  def forward(self, x):\n",
        "    normalized_embeddings = self.norm(x)\n",
        "    attention = self.attention(normalized_embeddings)\n",
        "    #Skip connection\n",
        "    x = attention + x\n",
        "\n",
        "    mlp_out = self.mlp(x)\n",
        "    #Skip connection\n",
        "    out = mlp_out + x\n",
        "\n",
        "    return out\n"
      ]
    },
    {
      "cell_type": "code",
      "execution_count": 4,
      "metadata": {
        "id": "uKmf6MG0Ui7K"
      },
      "outputs": [],
      "source": [
        "class ViT(nn.Module):\n",
        "  def __init__(self):\n",
        "    super().__init__()\n",
        "    self.linear_projection = nn.Linear(49, D)\n",
        "    self.positional_encodings = self.create_positional_encodings()\n",
        "\n",
        "    self.transformer_encoder = TransformerEncoder()\n",
        "\n",
        "    self.mlp_head = nn.Linear((D+8),10)\n",
        "\n",
        "  def patchify(self, images):\n",
        "    N,_,_,_ = images.shape\n",
        "    patched_images = images.unfold(2, 7, 7)\n",
        "    patched_images = patched_images.unfold(3, 7, 7)\n",
        "    patched_images = patched_images.contiguous()\n",
        "    patched_images = patched_images.view(N, 16, -1)\n",
        "\n",
        "    return patched_images\n",
        "\n",
        "  def create_positional_encodings(self):\n",
        "    rows = torch.zeros(16, 4)\n",
        "    columns = torch.zeros(16, 4)\n",
        "\n",
        "    encodings = torch.zeros(16, 8)\n",
        "\n",
        "    for i in range(16):\n",
        "      row = i // 4\n",
        "      column = i % 4\n",
        "      rows[i, row] = 1\n",
        "      columns[i, column] = 1\n",
        "      encodings[i][:4] = rows[i]\n",
        "      encodings[i][4:] = columns[i]\n",
        "\n",
        "    return encodings\n",
        "\n",
        "\n",
        "  def forward(self, x):\n",
        "    N,_,_,_ = x.shape\n",
        "\n",
        "    patches = self.patchify(x)\n",
        "\n",
        "    linearized_patches = self.linear_projection(patches)\n",
        "    #print(f\"linearized patches shape: {linearized_patches.shape}\")\n",
        "\n",
        "    tokens = torch.cat((self.positional_encodings.expand(N,-1,-1), linearized_patches),dim=2)\n",
        "    #print(f\"tokens shape: {tokens.shape}\")\n",
        "\n",
        "    encoder_out = self.transformer_encoder(tokens)\n",
        "    first_patches = encoder_out[:,0,:]\n",
        "    logits = self.mlp_head(first_patches)\n",
        "    return logits\n"
      ]
    },
    {
      "cell_type": "code",
      "execution_count": null,
      "metadata": {
        "colab": {
          "base_uri": "https://localhost:8080/"
        },
        "id": "vH1kH2ZktcYc",
        "outputId": "394ca363-2a59-4744-c763-1d7536e51207"
      },
      "outputs": [
        {
          "name": "stdout",
          "output_type": "stream",
          "text": [
            "Query shape: torch.Size([256, 16, 72])\n",
            "Q,K,V shapes: torch.Size([256, 16, 6, 12])\n",
            "V shape: torch.Size([256, 6, 16, 12])\n",
            "Q shape after permute: torch.Size([256, 6, 16, 12])\n",
            "K shape after permute: torch.Size([256, 6, 12, 16])\n",
            "attention_weights shape: torch.Size([256, 6, 16, 16])\n",
            "Output shape: torch.Size([256, 16, 72])\n"
          ]
        }
      ],
      "source": [
        "#####TEST#####\n",
        "\"\"\"\n",
        "attention = MultiHeadSelfAttention()\n",
        "\n",
        "batch_size = 256\n",
        "patch_num = 16\n",
        "embedding_dim = 8 + D\n",
        "\n",
        "query = torch.randn(batch_size, patch_num, embedding_dim)\n",
        "key = torch.randn(batch_size, patch_num, embedding_dim)\n",
        "value = torch.randn(batch_size, patch_num, embedding_dim)\n",
        "print(\"Query shape:\", query.shape)\n",
        "\n",
        "output = attention(query, key, value)\n",
        "\n",
        "print(\"Output shape:\", output.shape)\n",
        "\"\"\""
      ]
    },
    {
      "cell_type": "code",
      "execution_count": null,
      "metadata": {
        "colab": {
          "base_uri": "https://localhost:8080/",
          "height": 1000
        },
        "id": "oikEiAMBF8gg",
        "outputId": "dd19b8e9-71b7-4df1-8c1a-23ca7446649b"
      },
      "outputs": [
        {
          "name": "stdout",
          "output_type": "stream",
          "text": [
            "torch.Size([64, 1, 28, 28])\n",
            "torch.Size([64, 16, 49])\n",
            "linearized patches shape: torch.Size([64, 16, 64])\n",
            "tokens shape: torch.Size([64, 16, 72])\n",
            "tensor([[1., 0., 0., 0., 1., 0., 0., 0.],\n",
            "        [1., 0., 0., 0., 0., 1., 0., 0.],\n",
            "        [1., 0., 0., 0., 0., 0., 1., 0.],\n",
            "        [1., 0., 0., 0., 0., 0., 0., 1.],\n",
            "        [0., 1., 0., 0., 1., 0., 0., 0.],\n",
            "        [0., 1., 0., 0., 0., 1., 0., 0.],\n",
            "        [0., 1., 0., 0., 0., 0., 1., 0.],\n",
            "        [0., 1., 0., 0., 0., 0., 0., 1.],\n",
            "        [0., 0., 1., 0., 1., 0., 0., 0.],\n",
            "        [0., 0., 1., 0., 0., 1., 0., 0.],\n",
            "        [0., 0., 1., 0., 0., 0., 1., 0.],\n",
            "        [0., 0., 1., 0., 0., 0., 0., 1.],\n",
            "        [0., 0., 0., 1., 1., 0., 0., 0.],\n",
            "        [0., 0., 0., 1., 0., 1., 0., 0.],\n",
            "        [0., 0., 0., 1., 0., 0., 1., 0.],\n",
            "        [0., 0., 0., 1., 0., 0., 0., 1.]])\n",
            "tensor([ 1.0000,  0.0000,  0.0000,  0.0000,  0.0000,  0.0000,  1.0000,  0.0000,\n",
            "        -0.5634,  0.0709, -0.6953,  0.0025,  0.8252, -0.0052, -0.7264,  0.4956,\n",
            "         1.0031, -0.2655,  0.7486, -1.3911, -0.0728, -2.1312, -0.5971, -0.3282,\n",
            "        -0.3856,  0.2959, -0.2609, -0.5703, -0.3540, -0.2400,  0.9364, -0.0347,\n",
            "        -0.4929, -0.7152, -0.0022, -0.1004,  0.0455, -0.4158,  0.5457, -0.3099,\n",
            "         0.3625,  0.5453,  0.4931, -0.3928,  0.8510, -0.2811,  0.3925, -0.6301,\n",
            "        -0.8964,  0.9702, -0.1773, -0.0543,  0.1895,  0.4593, -0.2994,  0.8267,\n",
            "         0.0426,  1.1022,  0.2792, -0.2690, -0.4020, -0.3601,  0.0645, -0.5406,\n",
            "        -0.1113, -0.1640,  1.2400, -0.3350, -0.2743,  0.4993,  0.1218,  0.2659],\n",
            "       grad_fn=<SelectBackward0>)\n"
          ]
        },
        {
          "data": {
            "image/png": "[encoded data removed]",
            "text/plain": [
              "<Figure size 640x480 with 1 Axes>"
            ]
          },
          "metadata": {},
          "output_type": "display_data"
        },
        {
          "name": "stdout",
          "output_type": "stream",
          "text": [
            "torch.Size([256, 1, 28, 28])\n"
          ]
        },
        {
          "data": {
            "image/png": "[encoded data removed]",
            "text/plain": [
              "<Figure size 640x480 with 1 Axes>"
            ]
          },
          "metadata": {},
          "output_type": "display_data"
        },
        {
          "name": "stdout",
          "output_type": "stream",
          "text": [
            "torch.Size([256, 16, 49])\n"
          ]
        }
      ],
      "source": [
        "\"\"\"\n",
        "#####TEST#####\n",
        "import matplotlib.pyplot as plt\n",
        "\n",
        "def reconstruct_and_display(patches, index):\n",
        "    reconstructed = patches[index].view(4, 4, 7, 7).permute(0, 2, 1, 3).contiguous().view(28, 28)\n",
        "    plt.imshow(reconstructed, cmap='gray')\n",
        "    plt.show()\n",
        "\n",
        "batch_size = 64\n",
        "images = torch.randn(batch_size, 1, 28, 28)\n",
        "#MNIST is a Nx1x28x28 tensor\n",
        "print(images.shape)\n",
        "vit_model = ViT()\n",
        "\"\"\"\n",
        "\n",
        "\n",
        "\n",
        "\n",
        "\"\"\"\n",
        "patches = vit_model.patchify(images)\n",
        "#Nx16x49\n",
        "print(patches.shape)\n",
        "\n",
        "tokens = vit_model.forward(images)\n",
        "\n",
        "print(vit_model.positional_encodings)\n",
        "\n",
        "print(tokens[0][2])\n",
        "\"\"\"\n",
        "\n",
        "\"\"\"\n",
        "dataset = datasets.MNIST(root='./../datasets', train=False, download=True, transform=transforms.ToTensor())\n",
        "data_loader = DataLoader(dataset, shuffle=True, batch_size=256)\n",
        "for it, batch in enumerate(data_loader):\n",
        "    x, y = batch\n",
        "    vit_model = ViT()\n",
        "    plt.imshow(x[0].squeeze(0), cmap='gray')\n",
        "    plt.show()\n",
        "    print(x.shape)\n",
        "    patches = vit_model.patchify(x)\n",
        "    reconstruct_and_display(patches,0)\n",
        "    print(patches.shape)\n",
        "    break\n",
        "\"\"\""
      ]
    },
    {
      "cell_type": "code",
      "execution_count": 5,
      "metadata": {
        "colab": {
          "base_uri": "https://localhost:8080/"
        },
        "id": "CXPkJYHZUTb2",
        "outputId": "49f3b08f-19df-4249-9472-3c15d8bd4b58"
      },
      "outputs": [
        {
          "name": "stdout",
          "output_type": "stream",
          "text": [
            "Downloading http://yann.lecun.com/exdb/mnist/train-images-idx3-ubyte.gz\n",
            "Downloading http://yann.lecun.com/exdb/mnist/train-images-idx3-ubyte.gz to ./../datasets/MNIST/raw/train-images-idx3-ubyte.gz\n"
          ]
        },
        {
          "name": "stderr",
          "output_type": "stream",
          "text": [
            "100%|██████████| 9912422/9912422 [00:00<00:00, 89035035.72it/s]\n"
          ]
        },
        {
          "name": "stdout",
          "output_type": "stream",
          "text": [
            "Extracting ./../datasets/MNIST/raw/train-images-idx3-ubyte.gz to ./../datasets/MNIST/raw\n",
            "\n",
            "Downloading http://yann.lecun.com/exdb/mnist/train-labels-idx1-ubyte.gz\n",
            "Downloading http://yann.lecun.com/exdb/mnist/train-labels-idx1-ubyte.gz to ./../datasets/MNIST/raw/train-labels-idx1-ubyte.gz\n"
          ]
        },
        {
          "name": "stderr",
          "output_type": "stream",
          "text": [
            "100%|██████████| 28881/28881 [00:00<00:00, 9907229.40it/s]\n"
          ]
        },
        {
          "name": "stdout",
          "output_type": "stream",
          "text": [
            "Extracting ./../datasets/MNIST/raw/train-labels-idx1-ubyte.gz to ./../datasets/MNIST/raw\n",
            "\n",
            "Downloading http://yann.lecun.com/exdb/mnist/t10k-images-idx3-ubyte.gz\n",
            "Downloading http://yann.lecun.com/exdb/mnist/t10k-images-idx3-ubyte.gz to ./../datasets/MNIST/raw/t10k-images-idx3-ubyte.gz\n"
          ]
        },
        {
          "name": "stderr",
          "output_type": "stream",
          "text": [
            "100%|██████████| 1648877/1648877 [00:00<00:00, 23892968.45it/s]\n"
          ]
        },
        {
          "name": "stdout",
          "output_type": "stream",
          "text": [
            "Extracting ./../datasets/MNIST/raw/t10k-images-idx3-ubyte.gz to ./../datasets/MNIST/raw\n",
            "\n",
            "Downloading http://yann.lecun.com/exdb/mnist/t10k-labels-idx1-ubyte.gz\n",
            "Downloading http://yann.lecun.com/exdb/mnist/t10k-labels-idx1-ubyte.gz to ./../datasets/MNIST/raw/t10k-labels-idx1-ubyte.gz\n"
          ]
        },
        {
          "name": "stderr",
          "output_type": "stream",
          "text": [
            "100%|██████████| 4542/4542 [00:00<00:00, 5248079.55it/s]\n"
          ]
        },
        {
          "name": "stdout",
          "output_type": "stream",
          "text": [
            "Extracting ./../datasets/MNIST/raw/t10k-labels-idx1-ubyte.gz to ./../datasets/MNIST/raw\n",
            "\n"
          ]
        }
      ],
      "source": [
        "# Loading data\n",
        "dataset = datasets.MNIST(root='./../datasets', train=False, download=True, transform=transforms.ToTensor())\n",
        "data_loader = DataLoader(dataset, shuffle=True, batch_size=256)\n",
        "\n",
        "# Defining model and training options\n",
        "device = torch.device(\"cuda\" if torch.cuda.is_available() else \"cpu\")\n",
        "\n",
        "model = ViT()\n",
        "\n",
        "num_epochs = 2\n",
        "lr = 0.005"
      ]
    },
    {
      "cell_type": "code",
      "execution_count": 6,
      "metadata": {
        "colab": {
          "base_uri": "https://localhost:8080/",
          "height": 1000
        },
        "id": "ZSX0TlLmC4p9",
        "outputId": "03816b78-8f2f-42cf-fe0a-de5116e5d2cd"
      },
      "outputs": [
        {
          "name": "stdout",
          "output_type": "stream",
          "text": [
            "0\n",
            "1\n",
            "2\n",
            "3\n",
            "4\n",
            "5\n",
            "6\n",
            "7\n",
            "8\n",
            "9\n",
            "10\n",
            "11\n",
            "12\n",
            "13\n",
            "14\n",
            "15\n",
            "16\n",
            "17\n",
            "18\n",
            "19\n",
            "20\n",
            "21\n",
            "22\n",
            "23\n",
            "24\n",
            "25\n",
            "26\n",
            "27\n",
            "28\n",
            "29\n",
            "30\n",
            "31\n",
            "32\n",
            "33\n",
            "34\n",
            "35\n",
            "36\n",
            "37\n",
            "38\n",
            "39\n",
            "Epoch 1/2 loss: 1.17\n",
            "0\n",
            "1\n",
            "2\n",
            "3\n",
            "4\n",
            "5\n",
            "6\n",
            "7\n",
            "8\n",
            "9\n",
            "10\n",
            "11\n",
            "12\n",
            "13\n",
            "14\n",
            "15\n",
            "16\n",
            "17\n",
            "18\n",
            "19\n",
            "20\n",
            "21\n",
            "22\n",
            "23\n",
            "24\n",
            "25\n",
            "26\n",
            "27\n",
            "28\n",
            "29\n",
            "30\n",
            "31\n",
            "32\n",
            "33\n",
            "34\n",
            "35\n",
            "36\n",
            "37\n",
            "38\n",
            "39\n",
            "Epoch 2/2 loss: 0.43\n"
          ]
        },
        {
          "data": {
            "image/png": "[encoded data removed]",
            "text/plain": [
              "<Figure size 640x480 with 1 Axes>"
            ]
          },
          "metadata": {},
          "output_type": "display_data"
        }
      ],
      "source": [
        "# Training loop\n",
        "optimizer = Adam(model.parameters(), lr=lr)\n",
        "criterion = CrossEntropyLoss()\n",
        "losses = []\n",
        "for epoch in range(num_epochs):\n",
        "    train_loss = 0.0\n",
        "    for it, batch in enumerate(data_loader):\n",
        "        x, y = batch\n",
        "        x, y = x.to(device), y.to(device)\n",
        "        y_hat = model(x)\n",
        "        loss = criterion(y_hat, y)\n",
        "\n",
        "        loss_val = loss.detach().cpu().item()\n",
        "        train_loss += loss_val / len(data_loader)\n",
        "        losses.append(loss_val)\n",
        "\n",
        "        print(it)\n",
        "\n",
        "        optimizer.zero_grad()\n",
        "        loss.backward()\n",
        "        optimizer.step()\n",
        "\n",
        "    print(f\"Epoch {epoch + 1}/{num_epochs} loss: {train_loss:.2f}\")\n",
        "\n",
        "from matplotlib import pyplot as plt\n",
        "plt.plot(losses)\n",
        "plt.show()"
      ]
    }
  ],
  "metadata": {
    "colab": {
      "provenance": []
    },
    "kernelspec": {
      "display_name": "Python 3",
      "name": "python3"
    },
    "language_info": {
      "name": "python"
    }
  },
  "nbformat": 4,
  "nbformat_minor": 0
}
